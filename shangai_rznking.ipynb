{
 "cells": [
  {
   "cell_type": "markdown",
   "metadata": {},
   "source": [
    "# Scrape the Shangai Ranking with Python"
   ]
  },
  {
   "cell_type": "markdown",
   "metadata": {},
   "source": [
    "## About \n",
    "The Academic Ranking of World Universities (ARWU) was first published in June 2003 by the Center for World-Class Universities (CWCU), Graduate School of Education (formerly the Institute of Higher Education) of Shanghai Jiao Tong University, China, and updated on an annual basis. Since 2009 the Academic Ranking of World Universities (ARWU) has been published and copyrighted by ShanghaiRanking Consultancy. ShanghaiRanking Consultancy is a fully independent organization on higher education intelligence and not legally subordinated to any universities or government agencies.\n",
    "\n",
    "ARWU uses six objective indicators to rank world universities, including the number of alumni and staff winning Nobel Prizes and Fields Medals, number of highly cited researchers selected by Clarivate Analytics, number of articles published in journals of Nature and Science, number of articles indexed in Science Citation Index - Expanded and Social Sciences Citation Index, and per capita performance of a university. More than 1800 universities are actually ranked by ARWU every year and the best 1000 are published."
   ]
  },
  {
   "cell_type": "markdown",
   "metadata": {},
   "source": [
    "## Goals \n",
    "In this post I will demonstrate how you can get the latest ranking dataset from the official website of the Shangai Ranking using Pandas and bs4."
   ]
  },
  {
   "cell_type": "code",
   "execution_count": 1,
   "metadata": {},
   "outputs": [],
   "source": [
    "# Import the libraries\n",
    "import pandas as pd\n",
    "import requests\n",
    "from bs4 import BeautifulSoup"
   ]
  },
  {
   "cell_type": "markdown",
   "metadata": {},
   "source": [
    "Let's use the `read_html` function of Pandas to scrape the main the table available at the address __http://www.shanghairanking.com/arwu2019.html__"
   ]
  },
  {
   "cell_type": "markdown",
   "metadata": {},
   "source": [
    "![shangai](shangai.png)"
   ]
  },
  {
   "cell_type": "code",
   "execution_count": 2,
   "metadata": {},
   "outputs": [],
   "source": [
    "shangai_ranking = pd.read_html(\"http://www.shanghairanking.com/arwu2019.html\")"
   ]
  },
  {
   "cell_type": "code",
   "execution_count": 3,
   "metadata": {},
   "outputs": [
    {
     "data": {
      "text/plain": [
       "list"
      ]
     },
     "execution_count": 3,
     "metadata": {},
     "output_type": "execute_result"
    }
   ],
   "source": [
    "type(shangai_ranking)"
   ]
  },
  {
   "cell_type": "markdown",
   "metadata": {},
   "source": [
    "It returns a list of 1 element.\n",
    "We can take a look at the data we just scraped."
   ]
  },
  {
   "cell_type": "code",
   "execution_count": 5,
   "metadata": {},
   "outputs": [
    {
     "data": {
      "text/html": [
       "<div>\n",
       "<style scoped>\n",
       "    .dataframe tbody tr th:only-of-type {\n",
       "        vertical-align: middle;\n",
       "    }\n",
       "\n",
       "    .dataframe tbody tr th {\n",
       "        vertical-align: top;\n",
       "    }\n",
       "\n",
       "    .dataframe thead th {\n",
       "        text-align: right;\n",
       "    }\n",
       "</style>\n",
       "<table border=\"1\" class=\"dataframe\">\n",
       "  <thead>\n",
       "    <tr style=\"text-align: right;\">\n",
       "      <th></th>\n",
       "      <th>World Rank</th>\n",
       "      <th>Institution*</th>\n",
       "      <th>By location  All Argentina Australia Austria Belgium Brazil Bulgaria Canada Chile China China-Hong Kong China-Macau China-Taiwan Colombia Croatia Cyprus Czech Republic Denmark Egypt Estonia Finland France Germany Greece Hungary Iceland India Iran Ireland Israel Italy Japan Lebanon Lithuania Luxembourg Malaysia Mexico Netherlands New Zealand Nigeria Norway Oman Pakistan Poland Portugal Romania Russia Saudi Arabia Serbia Singapore Slovakia Slovenia South Africa South Korea Spain Sweden Switzerland Thailand Tunisia Turkey United Kingdom United Arab Emirates Uruguay United States Vietnam</th>\n",
       "      <th>National/Regional Rank</th>\n",
       "      <th>Total Score</th>\n",
       "      <th>Score on  Alumni  Award  HiCi  N&amp;S  PUB  PCP</th>\n",
       "    </tr>\n",
       "  </thead>\n",
       "  <tbody>\n",
       "    <tr>\n",
       "      <th>0</th>\n",
       "      <td>1</td>\n",
       "      <td>Harvard University</td>\n",
       "      <td>NaN</td>\n",
       "      <td>1</td>\n",
       "      <td>100.0</td>\n",
       "      <td>100.0</td>\n",
       "    </tr>\n",
       "    <tr>\n",
       "      <th>1</th>\n",
       "      <td>2</td>\n",
       "      <td>Stanford University</td>\n",
       "      <td>NaN</td>\n",
       "      <td>2</td>\n",
       "      <td>75.1</td>\n",
       "      <td>45.2</td>\n",
       "    </tr>\n",
       "    <tr>\n",
       "      <th>2</th>\n",
       "      <td>3</td>\n",
       "      <td>University of Cambridge</td>\n",
       "      <td>NaN</td>\n",
       "      <td>1</td>\n",
       "      <td>72.3</td>\n",
       "      <td>80.7</td>\n",
       "    </tr>\n",
       "    <tr>\n",
       "      <th>3</th>\n",
       "      <td>4</td>\n",
       "      <td>Massachusetts Institute of Technology (MIT)</td>\n",
       "      <td>NaN</td>\n",
       "      <td>3</td>\n",
       "      <td>69.0</td>\n",
       "      <td>72.0</td>\n",
       "    </tr>\n",
       "    <tr>\n",
       "      <th>4</th>\n",
       "      <td>5</td>\n",
       "      <td>University of California, Berkeley</td>\n",
       "      <td>NaN</td>\n",
       "      <td>4</td>\n",
       "      <td>67.9</td>\n",
       "      <td>67.1</td>\n",
       "    </tr>\n",
       "  </tbody>\n",
       "</table>\n",
       "</div>"
      ],
      "text/plain": [
       "  World Rank                                 Institution*  \\\n",
       "0          1                           Harvard University   \n",
       "1          2                          Stanford University   \n",
       "2          3                      University of Cambridge   \n",
       "3          4  Massachusetts Institute of Technology (MIT)   \n",
       "4          5           University of California, Berkeley   \n",
       "\n",
       "   By location  All Argentina Australia Austria Belgium Brazil Bulgaria Canada Chile China China-Hong Kong China-Macau China-Taiwan Colombia Croatia Cyprus Czech Republic Denmark Egypt Estonia Finland France Germany Greece Hungary Iceland India Iran Ireland Israel Italy Japan Lebanon Lithuania Luxembourg Malaysia Mexico Netherlands New Zealand Nigeria Norway Oman Pakistan Poland Portugal Romania Russia Saudi Arabia Serbia Singapore Slovakia Slovenia South Africa South Korea Spain Sweden Switzerland Thailand Tunisia Turkey United Kingdom United Arab Emirates Uruguay United States Vietnam  \\\n",
       "0                                                NaN                                                                                                                                                                                                                                                                                                                                                                                                                                                                                                                                                                \n",
       "1                                                NaN                                                                                                                                                                                                                                                                                                                                                                                                                                                                                                                                                                \n",
       "2                                                NaN                                                                                                                                                                                                                                                                                                                                                                                                                                                                                                                                                                \n",
       "3                                                NaN                                                                                                                                                                                                                                                                                                                                                                                                                                                                                                                                                                \n",
       "4                                                NaN                                                                                                                                                                                                                                                                                                                                                                                                                                                                                                                                                                \n",
       "\n",
       "  National/Regional Rank  Total Score  \\\n",
       "0                      1        100.0   \n",
       "1                      2         75.1   \n",
       "2                      1         72.3   \n",
       "3                      3         69.0   \n",
       "4                      4         67.9   \n",
       "\n",
       "   Score on  Alumni  Award  HiCi  N&S  PUB  PCP  \n",
       "0                                         100.0  \n",
       "1                                          45.2  \n",
       "2                                          80.7  \n",
       "3                                          72.0  \n",
       "4                                          67.1  "
      ]
     },
     "execution_count": 5,
     "metadata": {},
     "output_type": "execute_result"
    }
   ],
   "source": [
    "shangai_ranking[0].head()"
   ]
  },
  {
   "cell_type": "markdown",
   "metadata": {},
   "source": [
    "Most of the columns have been correctly scraped by the `pd.read_html()` function. However the column indicating the countries is not showing because the country names are not mentioned on the website. Only the flags are shown instead. We need to come up with a strategy to scrape that missing column.  \n",
    "First we will scrape the entire page then we will use Beautiful class to parse the HTML. After parsing the HTML, we will then look for all `<img>` HTML tags and retrieve the string (text) used to describe to describe each flags. This string is the country name.  \n",
    "As a matter of illustration this is how the site stores the titles of the flags.\n",
    "![illust](illust.png)"
   ]
  },
  {
   "cell_type": "markdown",
   "metadata": {},
   "source": [
    "Now that we have a clear idea on how the site stores the flags name we can scrape that particular information."
   ]
  },
  {
   "cell_type": "code",
   "execution_count": 6,
   "metadata": {},
   "outputs": [],
   "source": [
    "flags = requests.get(\"http://www.shanghairanking.com/arwu2019.html\")"
   ]
  },
  {
   "cell_type": "code",
   "execution_count": 7,
   "metadata": {},
   "outputs": [],
   "source": [
    "soup = BeautifulSoup(flags.text)"
   ]
  },
  {
   "cell_type": "code",
   "execution_count": 8,
   "metadata": {},
   "outputs": [],
   "source": [
    "img_src = soup.find_all(\"img\")[1:1001]\n",
    "img_src = [str(img) for img in img_src]\n",
    "img_src = [img.split(\"/\")[2].split(\".\")[0] for img in img_src]"
   ]
  },
  {
   "cell_type": "markdown",
   "metadata": {},
   "source": [
    "Let's display the first 10 element of that list."
   ]
  },
  {
   "cell_type": "code",
   "execution_count": 13,
   "metadata": {},
   "outputs": [
    {
     "data": {
      "text/plain": [
       "['USA', 'USA', 'UK', 'USA', 'USA', 'USA', 'UK', 'USA', 'USA', 'USA']"
      ]
     },
     "execution_count": 13,
     "metadata": {},
     "output_type": "execute_result"
    }
   ],
   "source": [
    "img_src[0:10]"
   ]
  },
  {
   "cell_type": "markdown",
   "metadata": {},
   "source": [
    "We can now transform the img list to a Pandas Series object and let it replace the previous column."
   ]
  },
  {
   "cell_type": "code",
   "execution_count": 9,
   "metadata": {},
   "outputs": [],
   "source": [
    "shangai_ranking[0].iloc[:, 2] = pd.Series(name = \"country\", data = img_src)"
   ]
  },
  {
   "cell_type": "markdown",
   "metadata": {},
   "source": [
    "As we saw earlier, the name of the third column is not also available, so we need to rename it."
   ]
  },
  {
   "cell_type": "code",
   "execution_count": 10,
   "metadata": {},
   "outputs": [],
   "source": [
    "shangai_ranking_ = shangai_ranking[0].rename(columns = {shangai_ranking[0].columns[2]: \"country\"})"
   ]
  },
  {
   "cell_type": "code",
   "execution_count": 11,
   "metadata": {},
   "outputs": [
    {
     "data": {
      "text/html": [
       "<div>\n",
       "<style scoped>\n",
       "    .dataframe tbody tr th:only-of-type {\n",
       "        vertical-align: middle;\n",
       "    }\n",
       "\n",
       "    .dataframe tbody tr th {\n",
       "        vertical-align: top;\n",
       "    }\n",
       "\n",
       "    .dataframe thead th {\n",
       "        text-align: right;\n",
       "    }\n",
       "</style>\n",
       "<table border=\"1\" class=\"dataframe\">\n",
       "  <thead>\n",
       "    <tr style=\"text-align: right;\">\n",
       "      <th></th>\n",
       "      <th>World Rank</th>\n",
       "      <th>Institution*</th>\n",
       "      <th>country</th>\n",
       "      <th>National/Regional Rank</th>\n",
       "      <th>Total Score</th>\n",
       "      <th>Score on  Alumni  Award  HiCi  N&amp;S  PUB  PCP</th>\n",
       "    </tr>\n",
       "  </thead>\n",
       "  <tbody>\n",
       "    <tr>\n",
       "      <th>0</th>\n",
       "      <td>1</td>\n",
       "      <td>Harvard University</td>\n",
       "      <td>USA</td>\n",
       "      <td>1</td>\n",
       "      <td>100.0</td>\n",
       "      <td>100.0</td>\n",
       "    </tr>\n",
       "    <tr>\n",
       "      <th>1</th>\n",
       "      <td>2</td>\n",
       "      <td>Stanford University</td>\n",
       "      <td>USA</td>\n",
       "      <td>2</td>\n",
       "      <td>75.1</td>\n",
       "      <td>45.2</td>\n",
       "    </tr>\n",
       "    <tr>\n",
       "      <th>2</th>\n",
       "      <td>3</td>\n",
       "      <td>University of Cambridge</td>\n",
       "      <td>UK</td>\n",
       "      <td>1</td>\n",
       "      <td>72.3</td>\n",
       "      <td>80.7</td>\n",
       "    </tr>\n",
       "    <tr>\n",
       "      <th>3</th>\n",
       "      <td>4</td>\n",
       "      <td>Massachusetts Institute of Technology (MIT)</td>\n",
       "      <td>USA</td>\n",
       "      <td>3</td>\n",
       "      <td>69.0</td>\n",
       "      <td>72.0</td>\n",
       "    </tr>\n",
       "    <tr>\n",
       "      <th>4</th>\n",
       "      <td>5</td>\n",
       "      <td>University of California, Berkeley</td>\n",
       "      <td>USA</td>\n",
       "      <td>4</td>\n",
       "      <td>67.9</td>\n",
       "      <td>67.1</td>\n",
       "    </tr>\n",
       "  </tbody>\n",
       "</table>\n",
       "</div>"
      ],
      "text/plain": [
       "  World Rank                                 Institution* country  \\\n",
       "0          1                           Harvard University     USA   \n",
       "1          2                          Stanford University     USA   \n",
       "2          3                      University of Cambridge      UK   \n",
       "3          4  Massachusetts Institute of Technology (MIT)     USA   \n",
       "4          5           University of California, Berkeley     USA   \n",
       "\n",
       "  National/Regional Rank  Total Score  \\\n",
       "0                      1        100.0   \n",
       "1                      2         75.1   \n",
       "2                      1         72.3   \n",
       "3                      3         69.0   \n",
       "4                      4         67.9   \n",
       "\n",
       "   Score on  Alumni  Award  HiCi  N&S  PUB  PCP  \n",
       "0                                         100.0  \n",
       "1                                          45.2  \n",
       "2                                          80.7  \n",
       "3                                          72.0  \n",
       "4                                          67.1  "
      ]
     },
     "execution_count": 11,
     "metadata": {},
     "output_type": "execute_result"
    }
   ],
   "source": [
    "shangai_ranking_.head()"
   ]
  },
  {
   "cell_type": "code",
   "execution_count": 12,
   "metadata": {},
   "outputs": [
    {
     "data": {
      "text/html": [
       "<div>\n",
       "<style scoped>\n",
       "    .dataframe tbody tr th:only-of-type {\n",
       "        vertical-align: middle;\n",
       "    }\n",
       "\n",
       "    .dataframe tbody tr th {\n",
       "        vertical-align: top;\n",
       "    }\n",
       "\n",
       "    .dataframe thead th {\n",
       "        text-align: right;\n",
       "    }\n",
       "</style>\n",
       "<table border=\"1\" class=\"dataframe\">\n",
       "  <thead>\n",
       "    <tr style=\"text-align: right;\">\n",
       "      <th></th>\n",
       "      <th>World Rank</th>\n",
       "      <th>Institution*</th>\n",
       "      <th>country</th>\n",
       "      <th>National/Regional Rank</th>\n",
       "    </tr>\n",
       "  </thead>\n",
       "  <tbody>\n",
       "    <tr>\n",
       "      <th>count</th>\n",
       "      <td>1000</td>\n",
       "      <td>1000</td>\n",
       "      <td>1000</td>\n",
       "      <td>1000</td>\n",
       "    </tr>\n",
       "    <tr>\n",
       "      <th>unique</th>\n",
       "      <td>87</td>\n",
       "      <td>1000</td>\n",
       "      <td>64</td>\n",
       "      <td>142</td>\n",
       "    </tr>\n",
       "    <tr>\n",
       "      <th>top</th>\n",
       "      <td>201-300</td>\n",
       "      <td>University College Dublin</td>\n",
       "      <td>USA</td>\n",
       "      <td>1</td>\n",
       "    </tr>\n",
       "    <tr>\n",
       "      <th>freq</th>\n",
       "      <td>100</td>\n",
       "      <td>1</td>\n",
       "      <td>206</td>\n",
       "      <td>61</td>\n",
       "    </tr>\n",
       "  </tbody>\n",
       "</table>\n",
       "</div>"
      ],
      "text/plain": [
       "       World Rank               Institution* country National/Regional Rank\n",
       "count        1000                       1000    1000                   1000\n",
       "unique         87                       1000      64                    142\n",
       "top       201-300  University College Dublin     USA                      1\n",
       "freq          100                          1     206                     61"
      ]
     },
     "execution_count": 12,
     "metadata": {},
     "output_type": "execute_result"
    }
   ],
   "source": [
    "shangai_ranking_.describe(include= \"object\")"
   ]
  },
  {
   "cell_type": "markdown",
   "metadata": {},
   "source": [
    "# For reproducibility\n",
    "You may be interested in using all the steps above to scrape the data yourself, so I am going to write a function so that you can just copy and run to get the dataset."
   ]
  },
  {
   "cell_type": "code",
   "execution_count": 10,
   "metadata": {},
   "outputs": [],
   "source": [
    "# Import the dependencies\n",
    "from requests import get\n",
    "from bs4 import BeautifulSoup\n",
    "from pandas import read_html\n",
    "\n",
    "def get_arwu(url = \"http://www.shanghairanking.com/arwu2019.html\"):\n",
    "    \"\"\"This function scrapes the Academic Ranking of \n",
    "    World University published by the ShangaiRanking Consultancy\n",
    "    \n",
    "    There is no need to provide arguments to the function.\n",
    "    \n",
    "    Returns a Pandas Dataframe\"\"\"\n",
    "    # Get the first data\n",
    "    shangai_ranking = read_html(url)\n",
    "    flags = get(\"http://www.shanghairanking.com/arwu2019.html\")\n",
    "    soup = BeautifulSoup(flags.text)\n",
    "    img_src = soup.find_all(\"img\")[1:1001]\n",
    "    img_src = [str(img) for img in img_src]\n",
    "    img_src = [img.split(\"/\")[2].split(\".\")[0] for img in img_src]\n",
    "    shangai_ranking[0].iloc[:, 2] = pd.Series(name = \"country\", data = img_src)\n",
    "    shangai_ranking_ = shangai_ranking[0].rename(columns = {shangai_ranking[0].columns[2]: \"country\"})\n",
    "    return shangai_ranking_"
   ]
  },
  {
   "cell_type": "code",
   "execution_count": 11,
   "metadata": {},
   "outputs": [],
   "source": [
    "arwu_ranking = get_arwu()"
   ]
  },
  {
   "cell_type": "code",
   "execution_count": 13,
   "metadata": {},
   "outputs": [
    {
     "data": {
      "text/html": [
       "<div>\n",
       "<style scoped>\n",
       "    .dataframe tbody tr th:only-of-type {\n",
       "        vertical-align: middle;\n",
       "    }\n",
       "\n",
       "    .dataframe tbody tr th {\n",
       "        vertical-align: top;\n",
       "    }\n",
       "\n",
       "    .dataframe thead th {\n",
       "        text-align: right;\n",
       "    }\n",
       "</style>\n",
       "<table border=\"1\" class=\"dataframe\">\n",
       "  <thead>\n",
       "    <tr style=\"text-align: right;\">\n",
       "      <th></th>\n",
       "      <th>World Rank</th>\n",
       "      <th>Institution*</th>\n",
       "      <th>country</th>\n",
       "      <th>National/Regional Rank</th>\n",
       "      <th>Total Score</th>\n",
       "      <th>Score on  Alumni  Award  HiCi  N&amp;S  PUB  PCP</th>\n",
       "    </tr>\n",
       "  </thead>\n",
       "  <tbody>\n",
       "    <tr>\n",
       "      <th>990</th>\n",
       "      <td>901-1000</td>\n",
       "      <td>University of Tabriz</td>\n",
       "      <td>Iran</td>\n",
       "      <td>11-13</td>\n",
       "      <td>NaN</td>\n",
       "      <td>0.0</td>\n",
       "    </tr>\n",
       "    <tr>\n",
       "      <th>991</th>\n",
       "      <td>901-1000</td>\n",
       "      <td>University of Thessaly</td>\n",
       "      <td>Greece</td>\n",
       "      <td>6-7</td>\n",
       "      <td>NaN</td>\n",
       "      <td>0.0</td>\n",
       "    </tr>\n",
       "    <tr>\n",
       "      <th>992</th>\n",
       "      <td>901-1000</td>\n",
       "      <td>University of Toyama</td>\n",
       "      <td>Japan</td>\n",
       "      <td>34-43</td>\n",
       "      <td>NaN</td>\n",
       "      <td>0.0</td>\n",
       "    </tr>\n",
       "    <tr>\n",
       "      <th>993</th>\n",
       "      <td>901-1000</td>\n",
       "      <td>University of Yamanashi</td>\n",
       "      <td>Japan</td>\n",
       "      <td>34-43</td>\n",
       "      <td>NaN</td>\n",
       "      <td>11.2</td>\n",
       "    </tr>\n",
       "    <tr>\n",
       "      <th>994</th>\n",
       "      <td>901-1000</td>\n",
       "      <td>Vellore Institute of Technology</td>\n",
       "      <td>India</td>\n",
       "      <td>11-16</td>\n",
       "      <td>NaN</td>\n",
       "      <td>0.0</td>\n",
       "    </tr>\n",
       "    <tr>\n",
       "      <th>995</th>\n",
       "      <td>901-1000</td>\n",
       "      <td>Williams College</td>\n",
       "      <td>USA</td>\n",
       "      <td>193-206</td>\n",
       "      <td>NaN</td>\n",
       "      <td>18.6</td>\n",
       "    </tr>\n",
       "    <tr>\n",
       "      <th>996</th>\n",
       "      <td>901-1000</td>\n",
       "      <td>Worcester Polytechnic Institute</td>\n",
       "      <td>USA</td>\n",
       "      <td>193-206</td>\n",
       "      <td>NaN</td>\n",
       "      <td>0.0</td>\n",
       "    </tr>\n",
       "    <tr>\n",
       "      <th>997</th>\n",
       "      <td>901-1000</td>\n",
       "      <td>Wroclaw University of Technology</td>\n",
       "      <td>Poland</td>\n",
       "      <td>7-9</td>\n",
       "      <td>NaN</td>\n",
       "      <td>0.0</td>\n",
       "    </tr>\n",
       "    <tr>\n",
       "      <th>998</th>\n",
       "      <td>901-1000</td>\n",
       "      <td>Yokohama National University</td>\n",
       "      <td>Japan</td>\n",
       "      <td>34-43</td>\n",
       "      <td>NaN</td>\n",
       "      <td>0.0</td>\n",
       "    </tr>\n",
       "    <tr>\n",
       "      <th>999</th>\n",
       "      <td>901-1000</td>\n",
       "      <td>Zagazig University</td>\n",
       "      <td>Egypt</td>\n",
       "      <td>5</td>\n",
       "      <td>NaN</td>\n",
       "      <td>0.0</td>\n",
       "    </tr>\n",
       "  </tbody>\n",
       "</table>\n",
       "</div>"
      ],
      "text/plain": [
       "    World Rank                      Institution* country  \\\n",
       "990   901-1000              University of Tabriz    Iran   \n",
       "991   901-1000            University of Thessaly  Greece   \n",
       "992   901-1000              University of Toyama   Japan   \n",
       "993   901-1000           University of Yamanashi   Japan   \n",
       "994   901-1000   Vellore Institute of Technology   India   \n",
       "995   901-1000                  Williams College     USA   \n",
       "996   901-1000   Worcester Polytechnic Institute     USA   \n",
       "997   901-1000  Wroclaw University of Technology  Poland   \n",
       "998   901-1000      Yokohama National University   Japan   \n",
       "999   901-1000                Zagazig University   Egypt   \n",
       "\n",
       "    National/Regional Rank  Total Score  \\\n",
       "990                  11-13          NaN   \n",
       "991                    6-7          NaN   \n",
       "992                  34-43          NaN   \n",
       "993                  34-43          NaN   \n",
       "994                  11-16          NaN   \n",
       "995                193-206          NaN   \n",
       "996                193-206          NaN   \n",
       "997                    7-9          NaN   \n",
       "998                  34-43          NaN   \n",
       "999                      5          NaN   \n",
       "\n",
       "     Score on  Alumni  Award  HiCi  N&S  PUB  PCP  \n",
       "990                                           0.0  \n",
       "991                                           0.0  \n",
       "992                                           0.0  \n",
       "993                                          11.2  \n",
       "994                                           0.0  \n",
       "995                                          18.6  \n",
       "996                                           0.0  \n",
       "997                                           0.0  \n",
       "998                                           0.0  \n",
       "999                                           0.0  "
      ]
     },
     "execution_count": 13,
     "metadata": {},
     "output_type": "execute_result"
    }
   ],
   "source": [
    "# The last 10 Institutions\n",
    "arwu_ranking.tail(10)"
   ]
  },
  {
   "cell_type": "markdown",
   "metadata": {},
   "source": [
    "Remember that **Institutions within the same rank range are listed alphabetically**.\n",
    "\n",
    "Feel free to comment and give me suggestions on how I can improve this article. I also found that my web scraper takes some time to get the data, so if you know how I can make it faster please tell me !"
   ]
  },
  {
   "cell_type": "markdown",
   "metadata": {},
   "source": [
    "# To cite this article\n",
    "To cite this article, please use the following :  \n",
    "\n",
    "Gailloty, A. (2019, January 13)., *Scrape the Shangai Ranking with Python*, retrieved from https://agailloty.rbind.io/en/post/shangai-ranking/"
   ]
  }
 ],
 "metadata": {
  "kernelspec": {
   "display_name": "Python 3",
   "language": "python",
   "name": "python3"
  },
  "language_info": {
   "codemirror_mode": {
    "name": "ipython",
    "version": 3
   },
   "file_extension": ".py",
   "mimetype": "text/x-python",
   "name": "python",
   "nbconvert_exporter": "python",
   "pygments_lexer": "ipython3",
   "version": "3.6.9"
  },
  "toc": {
   "base_numbering": 1,
   "nav_menu": {},
   "number_sections": true,
   "sideBar": true,
   "skip_h1_title": false,
   "title_cell": "Table of Contents",
   "title_sidebar": "Contents",
   "toc_cell": false,
   "toc_position": {},
   "toc_section_display": true,
   "toc_window_display": false
  }
 },
 "nbformat": 4,
 "nbformat_minor": 4
}
